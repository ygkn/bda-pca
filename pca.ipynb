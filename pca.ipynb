{
 "cells": [
  {
   "cell_type": "markdown",
   "metadata": {},
   "source": [
    "# 主成分分析\n"
   ]
  },
  {
   "cell_type": "markdown",
   "metadata": {},
   "source": [
    "## 準備\n"
   ]
  },
  {
   "cell_type": "markdown",
   "metadata": {},
   "source": [
    "### インポート\n"
   ]
  },
  {
   "cell_type": "markdown",
   "metadata": {},
   "source": [
    "ライブラリをインポートする．\n"
   ]
  },
  {
   "cell_type": "code",
   "execution_count": 1,
   "metadata": {},
   "outputs": [],
   "source": [
    "import numpy as np\n",
    "import pandas as pd\n",
    "\n",
    "import matplotlib.pyplot as plt\n",
    "\n",
    "%matplotlib inline"
   ]
  },
  {
   "cell_type": "markdown",
   "metadata": {},
   "source": [
    "scikit-learn の `PCA` モデルをインポートする．\n"
   ]
  },
  {
   "cell_type": "code",
   "execution_count": 2,
   "metadata": {},
   "outputs": [],
   "source": [
    "from sklearn.decomposition import PCA\n"
   ]
  },
  {
   "cell_type": "markdown",
   "metadata": {},
   "source": [
    "### 説明変数の準備\n"
   ]
  },
  {
   "cell_type": "markdown",
   "metadata": {},
   "source": [
    "`univ-power.csv` を pandas の `DataFrame` として読み込む．\n"
   ]
  },
  {
   "cell_type": "code",
   "execution_count": 3,
   "metadata": {},
   "outputs": [
    {
     "data": {
      "text/html": [
       "<div>\n",
       "<style scoped>\n",
       "    .dataframe tbody tr th:only-of-type {\n",
       "        vertical-align: middle;\n",
       "    }\n",
       "\n",
       "    .dataframe tbody tr th {\n",
       "        vertical-align: top;\n",
       "    }\n",
       "\n",
       "    .dataframe thead th {\n",
       "        text-align: right;\n",
       "    }\n",
       "</style>\n",
       "<table border=\"1\" class=\"dataframe\">\n",
       "  <thead>\n",
       "    <tr style=\"text-align: right;\">\n",
       "      <th></th>\n",
       "      <th>num-books</th>\n",
       "      <th>num-rooms</th>\n",
       "      <th>female-ratio</th>\n",
       "      <th>num-faculties</th>\n",
       "      <th>num-students</th>\n",
       "      <th>num-doctors</th>\n",
       "    </tr>\n",
       "  </thead>\n",
       "  <tbody>\n",
       "    <tr>\n",
       "      <th>0</th>\n",
       "      <td>29</td>\n",
       "      <td>21</td>\n",
       "      <td>26</td>\n",
       "      <td>30</td>\n",
       "      <td>10</td>\n",
       "      <td>6</td>\n",
       "    </tr>\n",
       "    <tr>\n",
       "      <th>1</th>\n",
       "      <td>32</td>\n",
       "      <td>7</td>\n",
       "      <td>14</td>\n",
       "      <td>18</td>\n",
       "      <td>10</td>\n",
       "      <td>7</td>\n",
       "    </tr>\n",
       "    <tr>\n",
       "      <th>2</th>\n",
       "      <td>77</td>\n",
       "      <td>64</td>\n",
       "      <td>87</td>\n",
       "      <td>71</td>\n",
       "      <td>85</td>\n",
       "      <td>71</td>\n",
       "    </tr>\n",
       "    <tr>\n",
       "      <th>3</th>\n",
       "      <td>91</td>\n",
       "      <td>69</td>\n",
       "      <td>100</td>\n",
       "      <td>83</td>\n",
       "      <td>96</td>\n",
       "      <td>91</td>\n",
       "    </tr>\n",
       "    <tr>\n",
       "      <th>4</th>\n",
       "      <td>70</td>\n",
       "      <td>87</td>\n",
       "      <td>84</td>\n",
       "      <td>88</td>\n",
       "      <td>67</td>\n",
       "      <td>91</td>\n",
       "    </tr>\n",
       "    <tr>\n",
       "      <th>...</th>\n",
       "      <td>...</td>\n",
       "      <td>...</td>\n",
       "      <td>...</td>\n",
       "      <td>...</td>\n",
       "      <td>...</td>\n",
       "      <td>...</td>\n",
       "    </tr>\n",
       "    <tr>\n",
       "      <th>145</th>\n",
       "      <td>73</td>\n",
       "      <td>60</td>\n",
       "      <td>59</td>\n",
       "      <td>54</td>\n",
       "      <td>70</td>\n",
       "      <td>65</td>\n",
       "    </tr>\n",
       "    <tr>\n",
       "      <th>146</th>\n",
       "      <td>59</td>\n",
       "      <td>25</td>\n",
       "      <td>45</td>\n",
       "      <td>48</td>\n",
       "      <td>37</td>\n",
       "      <td>32</td>\n",
       "    </tr>\n",
       "    <tr>\n",
       "      <th>147</th>\n",
       "      <td>58</td>\n",
       "      <td>17</td>\n",
       "      <td>31</td>\n",
       "      <td>23</td>\n",
       "      <td>24</td>\n",
       "      <td>25</td>\n",
       "    </tr>\n",
       "    <tr>\n",
       "      <th>148</th>\n",
       "      <td>70</td>\n",
       "      <td>56</td>\n",
       "      <td>76</td>\n",
       "      <td>62</td>\n",
       "      <td>67</td>\n",
       "      <td>88</td>\n",
       "    </tr>\n",
       "    <tr>\n",
       "      <th>149</th>\n",
       "      <td>19</td>\n",
       "      <td>12</td>\n",
       "      <td>9</td>\n",
       "      <td>28</td>\n",
       "      <td>10</td>\n",
       "      <td>5</td>\n",
       "    </tr>\n",
       "  </tbody>\n",
       "</table>\n",
       "<p>150 rows × 6 columns</p>\n",
       "</div>"
      ],
      "text/plain": [
       "     num-books  num-rooms  female-ratio  num-faculties  num-students  \\\n",
       "0           29         21            26             30            10   \n",
       "1           32          7            14             18            10   \n",
       "2           77         64            87             71            85   \n",
       "3           91         69           100             83            96   \n",
       "4           70         87            84             88            67   \n",
       "..         ...        ...           ...            ...           ...   \n",
       "145         73         60            59             54            70   \n",
       "146         59         25            45             48            37   \n",
       "147         58         17            31             23            24   \n",
       "148         70         56            76             62            67   \n",
       "149         19         12             9             28            10   \n",
       "\n",
       "     num-doctors  \n",
       "0              6  \n",
       "1              7  \n",
       "2             71  \n",
       "3             91  \n",
       "4             91  \n",
       "..           ...  \n",
       "145           65  \n",
       "146           32  \n",
       "147           25  \n",
       "148           88  \n",
       "149            5  \n",
       "\n",
       "[150 rows x 6 columns]"
      ]
     },
     "execution_count": 3,
     "metadata": {},
     "output_type": "execute_result"
    }
   ],
   "source": [
    "x = pd.read_csv(\"univ-power.csv\")\n",
    "\n",
    "x\n"
   ]
  },
  {
   "cell_type": "markdown",
   "metadata": {},
   "source": [
    "説明変数を標準化する．\n"
   ]
  },
  {
   "cell_type": "code",
   "execution_count": 4,
   "metadata": {},
   "outputs": [
    {
     "data": {
      "text/html": [
       "<div>\n",
       "<style scoped>\n",
       "    .dataframe tbody tr th:only-of-type {\n",
       "        vertical-align: middle;\n",
       "    }\n",
       "\n",
       "    .dataframe tbody tr th {\n",
       "        vertical-align: top;\n",
       "    }\n",
       "\n",
       "    .dataframe thead th {\n",
       "        text-align: right;\n",
       "    }\n",
       "</style>\n",
       "<table border=\"1\" class=\"dataframe\">\n",
       "  <thead>\n",
       "    <tr style=\"text-align: right;\">\n",
       "      <th></th>\n",
       "      <th>num-books</th>\n",
       "      <th>num-rooms</th>\n",
       "      <th>female-ratio</th>\n",
       "      <th>num-faculties</th>\n",
       "      <th>num-students</th>\n",
       "      <th>num-doctors</th>\n",
       "    </tr>\n",
       "  </thead>\n",
       "  <tbody>\n",
       "    <tr>\n",
       "      <th>0</th>\n",
       "      <td>-1.089869</td>\n",
       "      <td>-0.886808</td>\n",
       "      <td>-0.804615</td>\n",
       "      <td>-0.930905</td>\n",
       "      <td>-1.417541</td>\n",
       "      <td>-1.127962</td>\n",
       "    </tr>\n",
       "    <tr>\n",
       "      <th>1</th>\n",
       "      <td>-0.950102</td>\n",
       "      <td>-1.546029</td>\n",
       "      <td>-1.296734</td>\n",
       "      <td>-1.499300</td>\n",
       "      <td>-1.417541</td>\n",
       "      <td>-1.094359</td>\n",
       "    </tr>\n",
       "    <tr>\n",
       "      <th>2</th>\n",
       "      <td>1.146397</td>\n",
       "      <td>1.137940</td>\n",
       "      <td>1.696991</td>\n",
       "      <td>1.011112</td>\n",
       "      <td>1.920118</td>\n",
       "      <td>1.056275</td>\n",
       "    </tr>\n",
       "    <tr>\n",
       "      <th>3</th>\n",
       "      <td>1.798641</td>\n",
       "      <td>1.373376</td>\n",
       "      <td>2.230121</td>\n",
       "      <td>1.579507</td>\n",
       "      <td>2.409642</td>\n",
       "      <td>1.728347</td>\n",
       "    </tr>\n",
       "    <tr>\n",
       "      <th>4</th>\n",
       "      <td>0.820275</td>\n",
       "      <td>2.220945</td>\n",
       "      <td>1.573962</td>\n",
       "      <td>1.816338</td>\n",
       "      <td>1.119080</td>\n",
       "      <td>1.728347</td>\n",
       "    </tr>\n",
       "    <tr>\n",
       "      <th>...</th>\n",
       "      <td>...</td>\n",
       "      <td>...</td>\n",
       "      <td>...</td>\n",
       "      <td>...</td>\n",
       "      <td>...</td>\n",
       "      <td>...</td>\n",
       "    </tr>\n",
       "    <tr>\n",
       "      <th>145</th>\n",
       "      <td>0.960041</td>\n",
       "      <td>0.949591</td>\n",
       "      <td>0.548713</td>\n",
       "      <td>0.205885</td>\n",
       "      <td>1.252587</td>\n",
       "      <td>0.854653</td>\n",
       "    </tr>\n",
       "    <tr>\n",
       "      <th>146</th>\n",
       "      <td>0.307797</td>\n",
       "      <td>-0.698460</td>\n",
       "      <td>-0.025426</td>\n",
       "      <td>-0.078312</td>\n",
       "      <td>-0.215984</td>\n",
       "      <td>-0.254268</td>\n",
       "    </tr>\n",
       "    <tr>\n",
       "      <th>147</th>\n",
       "      <td>0.261208</td>\n",
       "      <td>-1.075157</td>\n",
       "      <td>-0.599565</td>\n",
       "      <td>-1.262469</td>\n",
       "      <td>-0.794511</td>\n",
       "      <td>-0.489493</td>\n",
       "    </tr>\n",
       "    <tr>\n",
       "      <th>148</th>\n",
       "      <td>0.820275</td>\n",
       "      <td>0.761243</td>\n",
       "      <td>1.245882</td>\n",
       "      <td>0.584815</td>\n",
       "      <td>1.119080</td>\n",
       "      <td>1.627536</td>\n",
       "    </tr>\n",
       "    <tr>\n",
       "      <th>149</th>\n",
       "      <td>-1.555757</td>\n",
       "      <td>-1.310593</td>\n",
       "      <td>-1.501784</td>\n",
       "      <td>-1.025637</td>\n",
       "      <td>-1.417541</td>\n",
       "      <td>-1.161566</td>\n",
       "    </tr>\n",
       "  </tbody>\n",
       "</table>\n",
       "<p>150 rows × 6 columns</p>\n",
       "</div>"
      ],
      "text/plain": [
       "     num-books  num-rooms  female-ratio  num-faculties  num-students  \\\n",
       "0    -1.089869  -0.886808     -0.804615      -0.930905     -1.417541   \n",
       "1    -0.950102  -1.546029     -1.296734      -1.499300     -1.417541   \n",
       "2     1.146397   1.137940      1.696991       1.011112      1.920118   \n",
       "3     1.798641   1.373376      2.230121       1.579507      2.409642   \n",
       "4     0.820275   2.220945      1.573962       1.816338      1.119080   \n",
       "..         ...        ...           ...            ...           ...   \n",
       "145   0.960041   0.949591      0.548713       0.205885      1.252587   \n",
       "146   0.307797  -0.698460     -0.025426      -0.078312     -0.215984   \n",
       "147   0.261208  -1.075157     -0.599565      -1.262469     -0.794511   \n",
       "148   0.820275   0.761243      1.245882       0.584815      1.119080   \n",
       "149  -1.555757  -1.310593     -1.501784      -1.025637     -1.417541   \n",
       "\n",
       "     num-doctors  \n",
       "0      -1.127962  \n",
       "1      -1.094359  \n",
       "2       1.056275  \n",
       "3       1.728347  \n",
       "4       1.728347  \n",
       "..           ...  \n",
       "145     0.854653  \n",
       "146    -0.254268  \n",
       "147    -0.489493  \n",
       "148     1.627536  \n",
       "149    -1.161566  \n",
       "\n",
       "[150 rows x 6 columns]"
      ]
     },
     "execution_count": 4,
     "metadata": {},
     "output_type": "execute_result"
    }
   ],
   "source": [
    "from sklearn.preprocessing import StandardScaler\n",
    "\n",
    "x_standardized = pd.DataFrame(\n",
    "    StandardScaler().fit_transform(x), columns=x.columns\n",
    ")\n",
    "\n",
    "x_standardized\n"
   ]
  },
  {
   "cell_type": "markdown",
   "metadata": {},
   "source": [
    "## 次元削減\n"
   ]
  },
  {
   "cell_type": "markdown",
   "metadata": {},
   "source": [
    "保持する成分の数を 6 として，モデルを定義する．\n"
   ]
  },
  {
   "cell_type": "code",
   "execution_count": 5,
   "metadata": {},
   "outputs": [],
   "source": [
    "pca = PCA(n_components=6)\n"
   ]
  },
  {
   "cell_type": "code",
   "execution_count": 6,
   "metadata": {},
   "outputs": [],
   "source": [
    "pc_names = [f\"PC{i+1}\" for i in range(pca.n_components)]\n"
   ]
  },
  {
   "cell_type": "markdown",
   "metadata": {},
   "source": [
    "モデルを説明変数に適合させ，説明変数に次元削減を適用する．\n"
   ]
  },
  {
   "cell_type": "code",
   "execution_count": 7,
   "metadata": {},
   "outputs": [
    {
     "data": {
      "text/html": [
       "<div>\n",
       "<style scoped>\n",
       "    .dataframe tbody tr th:only-of-type {\n",
       "        vertical-align: middle;\n",
       "    }\n",
       "\n",
       "    .dataframe tbody tr th {\n",
       "        vertical-align: top;\n",
       "    }\n",
       "\n",
       "    .dataframe thead th {\n",
       "        text-align: right;\n",
       "    }\n",
       "</style>\n",
       "<table border=\"1\" class=\"dataframe\">\n",
       "  <thead>\n",
       "    <tr style=\"text-align: right;\">\n",
       "      <th></th>\n",
       "      <th>PC1</th>\n",
       "      <th>PC2</th>\n",
       "      <th>PC3</th>\n",
       "      <th>PC4</th>\n",
       "      <th>PC5</th>\n",
       "      <th>PC6</th>\n",
       "    </tr>\n",
       "  </thead>\n",
       "  <tbody>\n",
       "    <tr>\n",
       "      <th>0</th>\n",
       "      <td>-2.546952</td>\n",
       "      <td>0.014808</td>\n",
       "      <td>0.328814</td>\n",
       "      <td>-0.331392</td>\n",
       "      <td>0.247082</td>\n",
       "      <td>-0.061482</td>\n",
       "    </tr>\n",
       "    <tr>\n",
       "      <th>1</th>\n",
       "      <td>-3.192309</td>\n",
       "      <td>-0.325995</td>\n",
       "      <td>0.135591</td>\n",
       "      <td>0.289910</td>\n",
       "      <td>0.096612</td>\n",
       "      <td>0.143128</td>\n",
       "    </tr>\n",
       "    <tr>\n",
       "      <th>2</th>\n",
       "      <td>3.245310</td>\n",
       "      <td>0.451240</td>\n",
       "      <td>-0.381275</td>\n",
       "      <td>0.508205</td>\n",
       "      <td>0.210692</td>\n",
       "      <td>-0.360747</td>\n",
       "    </tr>\n",
       "    <tr>\n",
       "      <th>3</th>\n",
       "      <td>4.527843</td>\n",
       "      <td>0.393265</td>\n",
       "      <td>-0.318516</td>\n",
       "      <td>0.742538</td>\n",
       "      <td>0.255266</td>\n",
       "      <td>-0.095458</td>\n",
       "    </tr>\n",
       "    <tr>\n",
       "      <th>4</th>\n",
       "      <td>3.808062</td>\n",
       "      <td>0.275880</td>\n",
       "      <td>0.557937</td>\n",
       "      <td>-0.695622</td>\n",
       "      <td>-0.385472</td>\n",
       "      <td>-0.316531</td>\n",
       "    </tr>\n",
       "    <tr>\n",
       "      <th>...</th>\n",
       "      <td>...</td>\n",
       "      <td>...</td>\n",
       "      <td>...</td>\n",
       "      <td>...</td>\n",
       "      <td>...</td>\n",
       "      <td>...</td>\n",
       "    </tr>\n",
       "    <tr>\n",
       "      <th>145</th>\n",
       "      <td>1.936989</td>\n",
       "      <td>-0.291028</td>\n",
       "      <td>-0.418691</td>\n",
       "      <td>0.427678</td>\n",
       "      <td>-0.286610</td>\n",
       "      <td>-0.435086</td>\n",
       "    </tr>\n",
       "    <tr>\n",
       "      <th>146</th>\n",
       "      <td>-0.402250</td>\n",
       "      <td>-0.154525</td>\n",
       "      <td>-0.091104</td>\n",
       "      <td>0.317355</td>\n",
       "      <td>0.449089</td>\n",
       "      <td>0.451982</td>\n",
       "    </tr>\n",
       "    <tr>\n",
       "      <th>147</th>\n",
       "      <td>-1.634274</td>\n",
       "      <td>-0.832479</td>\n",
       "      <td>-0.015162</td>\n",
       "      <td>0.711467</td>\n",
       "      <td>0.410630</td>\n",
       "      <td>0.097183</td>\n",
       "    </tr>\n",
       "    <tr>\n",
       "      <th>148</th>\n",
       "      <td>2.508633</td>\n",
       "      <td>0.068520</td>\n",
       "      <td>0.409679</td>\n",
       "      <td>0.706319</td>\n",
       "      <td>-0.242591</td>\n",
       "      <td>-0.155822</td>\n",
       "    </tr>\n",
       "    <tr>\n",
       "      <th>149</th>\n",
       "      <td>-3.248678</td>\n",
       "      <td>0.159673</td>\n",
       "      <td>0.175113</td>\n",
       "      <td>-0.265337</td>\n",
       "      <td>-0.275777</td>\n",
       "      <td>0.217837</td>\n",
       "    </tr>\n",
       "  </tbody>\n",
       "</table>\n",
       "<p>150 rows × 6 columns</p>\n",
       "</div>"
      ],
      "text/plain": [
       "          PC1       PC2       PC3       PC4       PC5       PC6\n",
       "0   -2.546952  0.014808  0.328814 -0.331392  0.247082 -0.061482\n",
       "1   -3.192309 -0.325995  0.135591  0.289910  0.096612  0.143128\n",
       "2    3.245310  0.451240 -0.381275  0.508205  0.210692 -0.360747\n",
       "3    4.527843  0.393265 -0.318516  0.742538  0.255266 -0.095458\n",
       "4    3.808062  0.275880  0.557937 -0.695622 -0.385472 -0.316531\n",
       "..        ...       ...       ...       ...       ...       ...\n",
       "145  1.936989 -0.291028 -0.418691  0.427678 -0.286610 -0.435086\n",
       "146 -0.402250 -0.154525 -0.091104  0.317355  0.449089  0.451982\n",
       "147 -1.634274 -0.832479 -0.015162  0.711467  0.410630  0.097183\n",
       "148  2.508633  0.068520  0.409679  0.706319 -0.242591 -0.155822\n",
       "149 -3.248678  0.159673  0.175113 -0.265337 -0.275777  0.217837\n",
       "\n",
       "[150 rows x 6 columns]"
      ]
     },
     "execution_count": 7,
     "metadata": {},
     "output_type": "execute_result"
    }
   ],
   "source": [
    "x_transformed = pd.DataFrame(\n",
    "    pca.fit_transform(x_standardized),\n",
    "    columns=pc_names,\n",
    ")\n",
    "\n",
    "x_transformed\n"
   ]
  },
  {
   "cell_type": "markdown",
   "metadata": {},
   "source": [
    "## 結果\n"
   ]
  },
  {
   "cell_type": "markdown",
   "metadata": {},
   "source": [
    "### 第 1, 2 主成分のプロット\n"
   ]
  },
  {
   "cell_type": "markdown",
   "metadata": {},
   "source": [
    "第 1 主成分を $x$ 軸に，第 2 主成分を $y$ 軸にして，散布図をプロットする．\n"
   ]
  },
  {
   "cell_type": "code",
   "execution_count": 8,
   "metadata": {},
   "outputs": [
    {
     "data": {
      "image/png": "[encoded data removed]",
      "text/plain": [
       "<Figure size 432x288 with 1 Axes>"
      ]
     },
     "metadata": {
      "needs_background": "light"
     },
     "output_type": "display_data"
    }
   ],
   "source": [
    "x_transformed.plot.scatter(x=\"PC1\", y=\"PC2\").plot()\n",
    "plt.show()\n"
   ]
  },
  {
   "cell_type": "markdown",
   "metadata": {},
   "source": [
    "### 寄与率と累積寄与率\n"
   ]
  },
  {
   "cell_type": "markdown",
   "metadata": {},
   "source": [
    "第 6 主成分までのそれぞれの寄与率を表示する．\n"
   ]
  },
  {
   "cell_type": "code",
   "execution_count": 9,
   "metadata": {},
   "outputs": [
    {
     "data": {
      "text/html": [
       "<div>\n",
       "<style scoped>\n",
       "    .dataframe tbody tr th:only-of-type {\n",
       "        vertical-align: middle;\n",
       "    }\n",
       "\n",
       "    .dataframe tbody tr th {\n",
       "        vertical-align: top;\n",
       "    }\n",
       "\n",
       "    .dataframe thead th {\n",
       "        text-align: right;\n",
       "    }\n",
       "</style>\n",
       "<table border=\"1\" class=\"dataframe\">\n",
       "  <thead>\n",
       "    <tr style=\"text-align: right;\">\n",
       "      <th></th>\n",
       "      <th>0</th>\n",
       "    </tr>\n",
       "  </thead>\n",
       "  <tbody>\n",
       "    <tr>\n",
       "      <th>PC1</th>\n",
       "      <td>0.804057</td>\n",
       "    </tr>\n",
       "    <tr>\n",
       "      <th>PC2</th>\n",
       "      <td>0.054051</td>\n",
       "    </tr>\n",
       "    <tr>\n",
       "      <th>PC3</th>\n",
       "      <td>0.049957</td>\n",
       "    </tr>\n",
       "    <tr>\n",
       "      <th>PC4</th>\n",
       "      <td>0.039154</td>\n",
       "    </tr>\n",
       "    <tr>\n",
       "      <th>PC5</th>\n",
       "      <td>0.030101</td>\n",
       "    </tr>\n",
       "    <tr>\n",
       "      <th>PC6</th>\n",
       "      <td>0.022680</td>\n",
       "    </tr>\n",
       "  </tbody>\n",
       "</table>\n",
       "</div>"
      ],
      "text/plain": [
       "            0\n",
       "PC1  0.804057\n",
       "PC2  0.054051\n",
       "PC3  0.049957\n",
       "PC4  0.039154\n",
       "PC5  0.030101\n",
       "PC6  0.022680"
      ]
     },
     "execution_count": 9,
     "metadata": {},
     "output_type": "execute_result"
    }
   ],
   "source": [
    "pd.DataFrame(\n",
    "    pca.explained_variance_ratio_,\n",
    "    index=pc_names,\n",
    ")\n"
   ]
  },
  {
   "cell_type": "markdown",
   "metadata": {},
   "source": [
    "累積寄与率を NumPy の `cumsum` 関数で計算し，折れ線グラフとしてプロットする．\n"
   ]
  },
  {
   "cell_type": "code",
   "execution_count": 10,
   "metadata": {},
   "outputs": [
    {
     "data": {
      "image/png": "[encoded data removed]",
      "text/plain": [
       "<Figure size 432x288 with 1 Axes>"
      ]
     },
     "metadata": {
      "needs_background": "light"
     },
     "output_type": "display_data"
    }
   ],
   "source": [
    "import matplotlib.ticker as ticker\n",
    "\n",
    "plt.gca().get_xaxis().set_major_locator(ticker.MaxNLocator(integer=True))\n",
    "plt.plot([0] + list(np.cumsum(pca.explained_variance_ratio_)), \"-o\")\n",
    "plt.xlabel(\"Number of principal components\")\n",
    "plt.ylabel(\"Cumulative contribution rate\")\n",
    "plt.grid()\n",
    "plt.show()\n"
   ]
  },
  {
   "cell_type": "markdown",
   "metadata": {},
   "source": [
    "### 主成分負荷量\n"
   ]
  },
  {
   "cell_type": "markdown",
   "metadata": {},
   "source": [
    "第 6 主成分までのそれぞれの主成分負荷量を表示する．\n"
   ]
  },
  {
   "cell_type": "code",
   "execution_count": 11,
   "metadata": {},
   "outputs": [
    {
     "data": {
      "text/html": [
       "<div>\n",
       "<style scoped>\n",
       "    .dataframe tbody tr th:only-of-type {\n",
       "        vertical-align: middle;\n",
       "    }\n",
       "\n",
       "    .dataframe tbody tr th {\n",
       "        vertical-align: top;\n",
       "    }\n",
       "\n",
       "    .dataframe thead th {\n",
       "        text-align: right;\n",
       "    }\n",
       "</style>\n",
       "<table border=\"1\" class=\"dataframe\">\n",
       "  <thead>\n",
       "    <tr style=\"text-align: right;\">\n",
       "      <th></th>\n",
       "      <th>num-books</th>\n",
       "      <th>num-rooms</th>\n",
       "      <th>female-ratio</th>\n",
       "      <th>num-faculties</th>\n",
       "      <th>num-students</th>\n",
       "      <th>num-doctors</th>\n",
       "    </tr>\n",
       "  </thead>\n",
       "  <tbody>\n",
       "    <tr>\n",
       "      <th>PC1</th>\n",
       "      <td>0.397546</td>\n",
       "      <td>0.417847</td>\n",
       "      <td>0.410562</td>\n",
       "      <td>0.417156</td>\n",
       "      <td>0.398580</td>\n",
       "      <td>0.407327</td>\n",
       "    </tr>\n",
       "    <tr>\n",
       "      <th>PC2</th>\n",
       "      <td>-0.732606</td>\n",
       "      <td>-0.213198</td>\n",
       "      <td>0.373410</td>\n",
       "      <td>0.334262</td>\n",
       "      <td>0.377811</td>\n",
       "      <td>-0.154685</td>\n",
       "    </tr>\n",
       "    <tr>\n",
       "      <th>PC3</th>\n",
       "      <td>-0.279346</td>\n",
       "      <td>-0.003814</td>\n",
       "      <td>0.385340</td>\n",
       "      <td>-0.024319</td>\n",
       "      <td>-0.670241</td>\n",
       "      <td>0.568902</td>\n",
       "    </tr>\n",
       "    <tr>\n",
       "      <th>PC4</th>\n",
       "      <td>0.164974</td>\n",
       "      <td>-0.593188</td>\n",
       "      <td>0.208070</td>\n",
       "      <td>-0.522054</td>\n",
       "      <td>0.398138</td>\n",
       "      <td>0.382837</td>\n",
       "    </tr>\n",
       "    <tr>\n",
       "      <th>PC5</th>\n",
       "      <td>0.381840</td>\n",
       "      <td>-0.213542</td>\n",
       "      <td>0.650397</td>\n",
       "      <td>0.009895</td>\n",
       "      <td>-0.262098</td>\n",
       "      <td>-0.562840</td>\n",
       "    </tr>\n",
       "    <tr>\n",
       "      <th>PC6</th>\n",
       "      <td>0.232795</td>\n",
       "      <td>-0.618437</td>\n",
       "      <td>-0.277862</td>\n",
       "      <td>0.664093</td>\n",
       "      <td>-0.148194</td>\n",
       "      <td>0.152166</td>\n",
       "    </tr>\n",
       "  </tbody>\n",
       "</table>\n",
       "</div>"
      ],
      "text/plain": [
       "     num-books  num-rooms  female-ratio  num-faculties  num-students  \\\n",
       "PC1   0.397546   0.417847      0.410562       0.417156      0.398580   \n",
       "PC2  -0.732606  -0.213198      0.373410       0.334262      0.377811   \n",
       "PC3  -0.279346  -0.003814      0.385340      -0.024319     -0.670241   \n",
       "PC4   0.164974  -0.593188      0.208070      -0.522054      0.398138   \n",
       "PC5   0.381840  -0.213542      0.650397       0.009895     -0.262098   \n",
       "PC6   0.232795  -0.618437     -0.277862       0.664093     -0.148194   \n",
       "\n",
       "     num-doctors  \n",
       "PC1     0.407327  \n",
       "PC2    -0.154685  \n",
       "PC3     0.568902  \n",
       "PC4     0.382837  \n",
       "PC5    -0.562840  \n",
       "PC6     0.152166  "
      ]
     },
     "execution_count": 11,
     "metadata": {},
     "output_type": "execute_result"
    }
   ],
   "source": [
    "components_loading = pd.DataFrame(\n",
    "    pca.components_,\n",
    "    index=pc_names,\n",
    "    columns=x.columns,\n",
    ")\n",
    "\n",
    "components_loading\n"
   ]
  },
  {
   "cell_type": "markdown",
   "metadata": {},
   "source": [
    "第 6 主成分までのそれぞれの主成分負荷量を棒グラフとしてプロットする．\n"
   ]
  },
  {
   "cell_type": "code",
   "execution_count": 12,
   "metadata": {},
   "outputs": [
    {
     "data": {
      "image/png": "[encoded data removed]",
      "text/plain": [
       "<Figure size 864x864 with 1 Axes>"
      ]
     },
     "metadata": {
      "needs_background": "light"
     },
     "output_type": "display_data"
    }
   ],
   "source": [
    "components_loading.plot.bar(figsize=(12,12))\n",
    "\n",
    "plt.show()\n"
   ]
  }
 ],
 "metadata": {
  "interpreter": {
   "hash": "a9e25344b8a403a44a7f45bc450256bac66c51cdc3f974f040b265f33bb4dd09"
  },
  "kernelspec": {
   "display_name": "Python 3 (ipykernel)",
   "language": "python",
   "name": "python3"
  },
  "language_info": {
   "codemirror_mode": {
    "name": "ipython",
    "version": 3
   },
   "file_extension": ".py",
   "mimetype": "text/x-python",
   "name": "python",
   "nbconvert_exporter": "python",
   "pygments_lexer": "ipython3",
   "version": "3.9.9"
  }
 },
 "nbformat": 4,
 "nbformat_minor": 2
}
